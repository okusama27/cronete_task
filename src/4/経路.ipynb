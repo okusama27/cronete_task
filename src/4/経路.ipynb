{
 "cells": [
  {
   "cell_type": "markdown",
   "metadata": {
    "deletable": true,
    "editable": true
   },
   "source": [
    "#最短経路と最長経路を求めよう\n",
    "\n",
    "条件\n",
    "- 同じところは通ってはいけない\n",
    "- 数値はコスト\n",
    "- 最短経路とは全経路のコストが一番小さいもの\n",
    "\n",
    "```\n",
    "A - 3 - B - 4 - C - 10 - D - 7 - E\n",
    "4         6         8         4         10\n",
    "F - 10 -　G - 3 - H - 9 - I - 1 - J\n",
    "4         3         8         6         9\n",
    "K - 8 - L - 4 - M - 7 - N - 2 - O\n",
    "3         9         2         6         6\n",
    "P - 6 - Q - 6 - R - 4 - S - 10 - T\n",
    "3         5         1         10         1\n",
    "U - 3 - V - 5 - W - 6 - X - 4 - Y\n",
    "```"
   ]
  },
  {
   "cell_type": "code",
   "execution_count": 38,
   "metadata": {
    "collapsed": true,
    "deletable": true,
    "editable": true
   },
   "outputs": [],
   "source": [
    "routes = {\n",
    "    ('a', 'b'): 3,\n",
    "    ('b', 'c'): 4,\n",
    "    ('c', 'd'): 10,\n",
    "    ('d', 'e'): 7,\n",
    "    ('a', 'f'): 4,\n",
    "    ('b', 'g'): 6,\n",
    "    ('c', 'h'): 8,\n",
    "    ('d', 'i'): 4,\n",
    "    ('e', 'j'): 10,\n",
    "    ('f', 'g'): 10,\n",
    "    ('g', 'h'): 3,\n",
    "    ('h', 'i'): 9,\n",
    "    ('i', 'j'): 1,\n",
    "    ('f', 'k'): 4,\n",
    "    ('g', 'l'): 3,\n",
    "    ('h', 'm'): 8,\n",
    "    ('i', 'n'): 6,\n",
    "    ('j', 'o'): 9,\n",
    "    ('k', 'l'): 8,\n",
    "    ('l', 'm'): 4,\n",
    "    ('m', 'n'): 7,\n",
    "    ('n', 'o'): 2,\n",
    "    ('k', 'p'): 3,\n",
    "    ('l', 'q'): 9,\n",
    "    ('m', 'r'): 2,\n",
    "    ('n', 's'): 6,\n",
    "    ('o', 't'): 6,\n",
    "    ('p', 'q'): 6,\n",
    "    ('q', 'r'): 6,\n",
    "    ('r', 's'): 4,\n",
    "    ('s', 't'): 10,\n",
    "    ('p', 'u'): 3,\n",
    "    ('q', 'v'): 5,\n",
    "    ('r', 'w'): 1,\n",
    "    ('s', 'x'): 10,\n",
    "    ('t', 'y'): 1,\n",
    "    ('u', 'v'): 3,\n",
    "    ('v', 'w'): 5,\n",
    "    ('w', 'x'): 6,\n",
    "    ('x', 'y'): 4,\n",
    "}"
   ]
  },
  {
   "cell_type": "code",
   "execution_count": 39,
   "metadata": {
    "collapsed": false,
    "deletable": true,
    "editable": true
   },
   "outputs": [],
   "source": [
    "def get_reverse_routes(rs):\n",
    "    res = {}\n",
    "    for k, v in routes.items():\n",
    "        r_k = (k[1], k[0])\n",
    "        res[r_k] = v\n",
    "\n",
    "    return res"
   ]
  },
  {
   "cell_type": "code",
   "execution_count": 40,
   "metadata": {
    "collapsed": false,
    "deletable": true,
    "editable": true
   },
   "outputs": [],
   "source": [
    "def get_next_points(start, all_routes):\n",
    "    res = {}\n",
    "    for k, v in all_routes.items():\n",
    "        if k[0] == start:\n",
    "            res[k] = v\n",
    "    return res"
   ]
  },
  {
   "cell_type": "code",
   "execution_count": 45,
   "metadata": {
    "collapsed": true,
    "deletable": true,
    "editable": true
   },
   "outputs": [],
   "source": [
    "def search_next_route(start, end, path, cost, result, all_routes):\n",
    "    next_points = get_next_points(start, all_routes)\n",
    "    for k, v in next_points.items():\n",
    "        tmp_path = path + k[1]\n",
    "        tmp_cost = cost + v\n",
    "        if k[1] == end:\n",
    "            if tmp_path not in result:\n",
    "                result[tmp_path] = tmp_cost\n",
    "        elif k[1] in path:\n",
    "            pass\n",
    "        else:\n",
    "            search_next_route(k[1], end, tmp_path, tmp_cost, result, all_routes)\n"
   ]
  },
  {
   "cell_type": "code",
   "execution_count": 46,
   "metadata": {
    "collapsed": false,
    "deletable": true,
    "editable": true
   },
   "outputs": [],
   "source": [
    "def search(start, end):\n",
    "    # 全ルート\n",
    "    reverse_routes = get_reverse_routes(routes)\n",
    "    all_routes = routes.copy()\n",
    "    all_routes.update(reverse_routes)\n",
    "\n",
    "    # 検索\n",
    "    result = {}\n",
    "    search_next_route(start, end, start, 0, result, all_routes)\n",
    "    return result"
   ]
  },
  {
   "cell_type": "code",
   "execution_count": 47,
   "metadata": {
    "collapsed": false,
    "deletable": true,
    "editable": true
   },
   "outputs": [
    {
     "name": "stdout",
     "output_type": "stream",
     "text": [
      "len: 8512\n",
      "min: (29, 'abglmrwxy')\n",
      "max: (156, 'abgfklqpuvwrmnihcdejotsxy')\n"
     ]
    }
   ],
   "source": [
    "results = search('a', 'y')\n",
    "print('len:', len(results))\n",
    "print('min:', min((v, k) for k, v in results.items()))\n",
    "print('max:', max((v, k) for k, v in results.items()))"
   ]
  },
  {
   "cell_type": "code",
   "execution_count": null,
   "metadata": {
    "collapsed": true
   },
   "outputs": [],
   "source": []
  }
 ],
 "metadata": {
  "kernelspec": {
   "display_name": "Python 3",
   "language": "python",
   "name": "python3"
  },
  "language_info": {
   "codemirror_mode": {
    "name": "ipython",
    "version": 3
   },
   "file_extension": ".py",
   "mimetype": "text/x-python",
   "name": "python",
   "nbconvert_exporter": "python",
   "pygments_lexer": "ipython3",
   "version": "3.5.0"
  }
 },
 "nbformat": 4,
 "nbformat_minor": 0
}
